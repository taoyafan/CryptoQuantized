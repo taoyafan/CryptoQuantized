{
 "cells": [
  {
   "cell_type": "markdown",
   "metadata": {},
   "source": [
    "# This is only a test of getting data and saving to csv"
   ]
  },
  {
   "cell_type": "code",
   "execution_count": 2,
   "metadata": {},
   "outputs": [
    {
     "name": "stdout",
     "output_type": "stream",
     "text": [
      "1d\n"
     ]
    }
   ],
   "source": [
    "from binance.client import Client\n",
    "from enum import Enum, unique\n",
    "\n",
    "@unique\n",
    "class DataType(Enum):\n",
    "    INTERVAL_1MINUTE = Client.KLINE_INTERVAL_1MINUTE\n",
    "    INTERVAL_3MINUTE = Client.KLINE_INTERVAL_3MINUTE\n",
    "    INTERVAL_5MINUTE = Client.KLINE_INTERVAL_5MINUTE\n",
    "    INTERVAL_15MINUTE = Client.KLINE_INTERVAL_15MINUTE\n",
    "    INTERVAL_30MINUTE = Client.KLINE_INTERVAL_30MINUTE\n",
    "    INTERVAL_1HOUR = Client.KLINE_INTERVAL_1HOUR\n",
    "    INTERVAL_2HOUR = Client.KLINE_INTERVAL_2HOUR\n",
    "    INTERVAL_4HOUR = Client.KLINE_INTERVAL_4HOUR\n",
    "    INTERVAL_6HOUR = Client.KLINE_INTERVAL_6HOUR\n",
    "    INTERVAL_8HOUR = Client.KLINE_INTERVAL_8HOUR\n",
    "    INTERVAL_12HOUR = Client.KLINE_INTERVAL_12HOUR\n",
    "    INTERVAL_1DAY = Client.KLINE_INTERVAL_1DAY\n",
    "    INTERVAL_3DAY = Client.KLINE_INTERVAL_3DAY\n",
    "    INTERVAL_1WEEK = Client.KLINE_INTERVAL_1WEEK\n",
    "    INTERVAL_1MONTH = Client.KLINE_INTERVAL_1MONTH\n",
    "\n",
    "interval = DataType.INTERVAL_1DAY \n",
    "print(interval.value)"
   ]
  },
  {
   "cell_type": "code",
   "execution_count": 3,
   "metadata": {},
   "outputs": [
    {
     "data": {
      "text/plain": [
       "'2022-05-24 22:13:12.370000'"
      ]
     },
     "execution_count": 3,
     "metadata": {},
     "output_type": "execute_result"
    }
   ],
   "source": [
    "from datetime import datetime, timedelta\n",
    "import dateparser\n",
    "import pytz\n",
    "\n",
    "def date_to_milliseconds(date_str):\n",
    "    \"\"\"Convert UTC date to milliseconds\n",
    "\n",
    "    If using offset strings add \"UTC\" to date string e.g. \"now UTC\", \"11 hours ago UTC\"\n",
    "\n",
    "    See dateparse docs for formats http://dateparser.readthedocs.io/en/latest/\n",
    "\n",
    "    :param date_str: date in readable format, i.e. \"January 01, 2018\", \"11 hours ago UTC\", \"now UTC\"\n",
    "    :type date_str: str\n",
    "    \"\"\"\n",
    "    # get epoch value in UTC\n",
    "    epoch = datetime.utcfromtimestamp(0).replace(tzinfo=pytz.utc)\n",
    "    # parse our date string\n",
    "    d = dateparser.parse(date_str)\n",
    "    # if the date is not timezone aware apply UTC timezone\n",
    "    if d.tzinfo is None or d.tzinfo.utcoffset(d) is None:\n",
    "        d = d.replace(tzinfo=pytz.utc)\n",
    "\n",
    "    # return the difference in time\n",
    "    return int((d - epoch).total_seconds() * 1000.0)\n",
    "\n",
    "def milliseconds_to_date(ms: int) -> str:\n",
    "    # get epoch value in local time\n",
    "    epoch = datetime.fromtimestamp(0)\n",
    "    return str(epoch + timedelta(milliseconds=ms))\n",
    "\n",
    "milliseconds_to_date(date_to_milliseconds(\"now UTC+8\"))\n",
    "# milliseconds_to_date(1653222960000)\n",
    "# date_to_milliseconds(\"now\")\n"
   ]
  },
  {
   "cell_type": "code",
   "execution_count": 4,
   "metadata": {},
   "outputs": [
    {
     "data": {
      "text/plain": [
       "86400000"
      ]
     },
     "execution_count": 4,
     "metadata": {},
     "output_type": "execute_result"
    }
   ],
   "source": [
    "def interval_to_milliseconds(interval: DataType):\n",
    "    \"\"\"Convert a Binance interval string to milliseconds\n",
    "\n",
    "    :param interval: Binance interval string 1m, 3m, 5m, 15m, 30m, 1h, 2h, 4h, 6h, 8h, 12h, 1d, 3d, 1w\n",
    "    :type interval: str\n",
    "\n",
    "    :return:\n",
    "        None if unit not one of m, h, d or w\n",
    "        None if string not in correct format\n",
    "        int value of interval in milliseconds\n",
    "    \"\"\"\n",
    "    ms = None\n",
    "    seconds_per_unit = {\n",
    "        \"m\": 60,\n",
    "        \"h\": 60 * 60,\n",
    "        \"d\": 24 * 60 * 60,\n",
    "        \"w\": 7 * 24 * 60 * 60\n",
    "    }\n",
    "\n",
    "    unit = interval.value[-1]\n",
    "    if unit in seconds_per_unit:\n",
    "        try:\n",
    "            ms = int(interval.value[:-1]) * seconds_per_unit[unit] * 1000\n",
    "        except ValueError:\n",
    "            pass\n",
    "    return ms\n",
    "\n",
    "interval_to_milliseconds(DataType.INTERVAL_1DAY)"
   ]
  },
  {
   "cell_type": "code",
   "execution_count": 5,
   "metadata": {},
   "outputs": [
    {
     "data": {
      "text/plain": [
       "[[1653401040000,\n",
       "  '28952.45000000',\n",
       "  '28953.24000000',\n",
       "  '28886.23000000',\n",
       "  '28918.36000000',\n",
       "  '29.17111000',\n",
       "  1653401099999,\n",
       "  '843705.34758050',\n",
       "  651,\n",
       "  '12.77976000',\n",
       "  '369602.04789640',\n",
       "  '0'],\n",
       " [1653401100000,\n",
       "  '28918.34000000',\n",
       "  '28954.70000000',\n",
       "  '28878.48000000',\n",
       "  '28890.41000000',\n",
       "  '76.79360000',\n",
       "  1653401159999,\n",
       "  '2220226.81876930',\n",
       "  812,\n",
       "  '27.09509000',\n",
       "  '783360.93187570',\n",
       "  '0'],\n",
       " [1653401160000,\n",
       "  '28893.06000000',\n",
       "  '28894.88000000',\n",
       "  '28800.00000000',\n",
       "  '28807.31000000',\n",
       "  '124.40390000',\n",
       "  1653401219999,\n",
       "  '3586257.69918880',\n",
       "  2555,\n",
       "  '53.05909000',\n",
       "  '1529751.18677910',\n",
       "  '0']]"
      ]
     },
     "execution_count": 5,
     "metadata": {},
     "output_type": "execute_result"
    }
   ],
   "source": [
    "import time\n",
    "\n",
    "def get_historical_klines(symbol, interval: DataType, start_str, end_str=None):\n",
    "    \"\"\"Get Historical Klines from Binance\n",
    "\n",
    "    See dateparse docs for valid start and end string formats http://dateparser.readthedocs.io/en/latest/\n",
    "\n",
    "    If using offset strings for dates add \"UTC\" to date string e.g. \"now UTC\", \"11 hours ago UTC\"\n",
    "\n",
    "    :param symbol: Name of symbol pair e.g BNBBTC\n",
    "    :type symbol: str\n",
    "    :param interval: Biannce Kline interval\n",
    "    :type interval: str\n",
    "    :param start_str: Start date string in UTC format\n",
    "    :type start_str: str\n",
    "    :param end_str: optional - end date string in UTC format\n",
    "    :type end_str: str\n",
    "\n",
    "    :return: list of OHLCV values\n",
    "\n",
    "    \"\"\"\n",
    "    proxies = {\n",
    "        \"http\": \"http://127.0.0.1:8900\",\n",
    "        \"https\": \"http://127.0.0.1:8900\",\n",
    "    }\n",
    "\n",
    "    # create the Binance client, no need for api key\n",
    "    client = Client(\"\", \"\",  {'proxies': proxies})\n",
    "\n",
    "    # init our list\n",
    "    output_data = []\n",
    "\n",
    "    # setup the max limit\n",
    "    limit = 500\n",
    "\n",
    "    # convert interval to useful value in seconds\n",
    "    timeframe = interval_to_milliseconds(interval)\n",
    "\n",
    "    # convert our date strings to milliseconds\n",
    "    start_ts = date_to_milliseconds(start_str)\n",
    "\n",
    "    # if an end time was passed convert it\n",
    "    end_ts = None\n",
    "    if end_str:\n",
    "        end_ts = date_to_milliseconds(end_str)\n",
    "\n",
    "    idx = 0\n",
    "    # it can be difficult to know when a symbol was listed on Binance so allow start time to be before list date\n",
    "    symbol_existed = False\n",
    "    while True:\n",
    "        # fetch the klines from start_ts up to max 500 entries or the end_ts if set\n",
    "        temp_data = client.get_klines(\n",
    "            symbol=symbol,\n",
    "            interval=interval.value,\n",
    "            limit=limit,\n",
    "            startTime=start_ts,\n",
    "            endTime=end_ts\n",
    "        )\n",
    "\n",
    "        # handle the case where our start date is before the symbol pair listed on Binance\n",
    "        if not symbol_existed and len(temp_data):\n",
    "            symbol_existed = True\n",
    "\n",
    "        if symbol_existed:\n",
    "            # append this loops data to our output data\n",
    "            output_data += temp_data\n",
    "\n",
    "            # update our start timestamp using the last value in the array and add the interval timeframe\n",
    "            start_ts = temp_data[len(temp_data) - 1][0] + timeframe\n",
    "        else:\n",
    "            # it wasn't listed yet, increment our start date\n",
    "            start_ts += timeframe\n",
    "\n",
    "        idx += 1\n",
    "        # check if we received less than the required limit and exit the loop\n",
    "        if len(temp_data) < limit:\n",
    "            # exit the while loop\n",
    "            break\n",
    "\n",
    "        # sleep after every 3rd call to be kind to the API\n",
    "        if idx % 3 == 0:\n",
    "            time.sleep(1)\n",
    "\n",
    "    return output_data\n",
    "    \n",
    "symbol = \"BTCBUSD\"\n",
    "interval = DataType.INTERVAL_1MINUTE\n",
    "start = \"10 minutes ago UTC+8\"\n",
    "end = \"7 minutes ago UTC+8\"\n",
    "data_list = get_historical_klines(symbol, interval, start, end)\n",
    "data_list"
   ]
  },
  {
   "cell_type": "code",
   "execution_count": 16,
   "metadata": {},
   "outputs": [
    {
     "data": {
      "text/html": [
       "<div>\n",
       "<style scoped>\n",
       "    .dataframe tbody tr th:only-of-type {\n",
       "        vertical-align: middle;\n",
       "    }\n",
       "\n",
       "    .dataframe tbody tr th {\n",
       "        vertical-align: top;\n",
       "    }\n",
       "\n",
       "    .dataframe thead th {\n",
       "        text-align: right;\n",
       "    }\n",
       "</style>\n",
       "<table border=\"1\" class=\"dataframe\">\n",
       "  <thead>\n",
       "    <tr style=\"text-align: right;\">\n",
       "      <th></th>\n",
       "      <th>open_time</th>\n",
       "      <th>open</th>\n",
       "      <th>high</th>\n",
       "      <th>low</th>\n",
       "      <th>close</th>\n",
       "      <th>volume</th>\n",
       "      <th>close_time</th>\n",
       "      <th>quote_assert_volume</th>\n",
       "      <th>number_of_trades</th>\n",
       "      <th>taker_buy_volume</th>\n",
       "      <th>taker_buy_quote_asset_volume</th>\n",
       "    </tr>\n",
       "  </thead>\n",
       "  <tbody>\n",
       "    <tr>\n",
       "      <th>0</th>\n",
       "      <td>1653401100000</td>\n",
       "      <td>28918.34000000</td>\n",
       "      <td>28954.70000000</td>\n",
       "      <td>28878.48000000</td>\n",
       "      <td>28890.41000000</td>\n",
       "      <td>76.79360000</td>\n",
       "      <td>1653401159999</td>\n",
       "      <td>2220226.81876930</td>\n",
       "      <td>812</td>\n",
       "      <td>27.09509000</td>\n",
       "      <td>783360.93187570</td>\n",
       "    </tr>\n",
       "    <tr>\n",
       "      <th>1</th>\n",
       "      <td>1653401160000</td>\n",
       "      <td>28893.06000000</td>\n",
       "      <td>28894.88000000</td>\n",
       "      <td>28800.00000000</td>\n",
       "      <td>28807.31000000</td>\n",
       "      <td>124.40390000</td>\n",
       "      <td>1653401219999</td>\n",
       "      <td>3586257.69918880</td>\n",
       "      <td>2555</td>\n",
       "      <td>53.05909000</td>\n",
       "      <td>1529751.18677910</td>\n",
       "    </tr>\n",
       "  </tbody>\n",
       "</table>\n",
       "</div>"
      ],
      "text/plain": [
       "       open_time            open            high             low  \\\n",
       "0  1653401100000  28918.34000000  28954.70000000  28878.48000000   \n",
       "1  1653401160000  28893.06000000  28894.88000000  28800.00000000   \n",
       "\n",
       "            close        volume     close_time quote_assert_volume  \\\n",
       "0  28890.41000000   76.79360000  1653401159999    2220226.81876930   \n",
       "1  28807.31000000  124.40390000  1653401219999    3586257.69918880   \n",
       "\n",
       "   number_of_trades taker_buy_volume taker_buy_quote_asset_volume  \n",
       "0               812      27.09509000              783360.93187570  \n",
       "1              2555      53.05909000             1529751.18677910  "
      ]
     },
     "execution_count": 16,
     "metadata": {},
     "output_type": "execute_result"
    }
   ],
   "source": [
    "import pandas as pd\n",
    "data_df = pd.DataFrame(data_list, columns =['open_time', 'open', 'high', 'low', 'close', 'volume', 'close_time', 'quote_assert_volume',\n",
    "                                  'number_of_trades', 'taker_buy_volume', 'taker_buy_quote_asset_volume', 'ignore'])\n",
    "# data_df = data_df.drop(columns=['ignore'])\n",
    "del data_df['ignore']\n",
    "# data_df[['open_time', 'close_time']].apply(lambda x: x.map(milliseconds_to_date))\n",
    "# data_df['open_time'].map(milliseconds_to_date)\n",
    "data_df\n",
    "data_df.iloc[-2:].reset_index(drop=True)\n"
   ]
  },
  {
   "cell_type": "code",
   "execution_count": 6,
   "metadata": {},
   "outputs": [],
   "source": [
    "# import os\n",
    "# file_loc = 'data/{}_{}.csv'.format(symbol, interval.value)\n",
    "# if os.path.exists(file_loc):\n",
    "#     # If file exist, append.\n",
    "#     data_df.to_csv(file_loc, mode='a', index=False, header=False)\n",
    "# else:\n",
    "#     data_df.to_csv(file_loc, index=False)"
   ]
  },
  {
   "cell_type": "markdown",
   "metadata": {},
   "source": [
    "Test reading from csv"
   ]
  },
  {
   "cell_type": "code",
   "execution_count": 7,
   "metadata": {},
   "outputs": [],
   "source": [
    "# history_data = None\n",
    "# if os.path.exists(file_loc):\n",
    "#     history_data = pd.read_csv(file_loc)\n",
    "# history_data"
   ]
  },
  {
   "cell_type": "markdown",
   "metadata": {},
   "source": [
    "Get the target element"
   ]
  },
  {
   "cell_type": "code",
   "execution_count": 9,
   "metadata": {},
   "outputs": [],
   "source": [
    "# data_df.iloc[-1]['open_time']\n",
    "# milliseconds_to_date(int(data_df['open_time'].values[0]))\n",
    "# data_df['open_time'].values[-1]"
   ]
  },
  {
   "cell_type": "markdown",
   "metadata": {},
   "source": [
    "Rows and columns"
   ]
  },
  {
   "cell_type": "code",
   "execution_count": 17,
   "metadata": {},
   "outputs": [
    {
     "data": {
      "text/plain": [
       "11"
      ]
     },
     "execution_count": 17,
     "metadata": {},
     "output_type": "execute_result"
    }
   ],
   "source": [
    "# data_df.shape[0]\n",
    "# len(data_df)\n",
    "# data_df.shape[1]"
   ]
  },
  {
   "cell_type": "code",
   "execution_count": 43,
   "metadata": {},
   "outputs": [
    {
     "data": {
      "text/html": [
       "<div>\n",
       "<style scoped>\n",
       "    .dataframe tbody tr th:only-of-type {\n",
       "        vertical-align: middle;\n",
       "    }\n",
       "\n",
       "    .dataframe tbody tr th {\n",
       "        vertical-align: top;\n",
       "    }\n",
       "\n",
       "    .dataframe thead th {\n",
       "        text-align: right;\n",
       "    }\n",
       "</style>\n",
       "<table border=\"1\" class=\"dataframe\">\n",
       "  <thead>\n",
       "    <tr style=\"text-align: right;\">\n",
       "      <th></th>\n",
       "      <th>open_time</th>\n",
       "      <th>ot</th>\n",
       "    </tr>\n",
       "  </thead>\n",
       "  <tbody>\n",
       "    <tr>\n",
       "      <th>1</th>\n",
       "      <td>29229.66000000</td>\n",
       "      <td>29229.66000000</td>\n",
       "    </tr>\n",
       "    <tr>\n",
       "      <th>2</th>\n",
       "      <td>29254.00000000</td>\n",
       "      <td>29254.00000000</td>\n",
       "    </tr>\n",
       "  </tbody>\n",
       "</table>\n",
       "</div>"
      ],
      "text/plain": [
       "        open_time              ot\n",
       "1  29229.66000000  29229.66000000\n",
       "2  29254.00000000  29254.00000000"
      ]
     },
     "execution_count": 43,
     "metadata": {},
     "output_type": "execute_result"
    }
   ],
   "source": [
    "new_data = pd.DataFrame() \n",
    "# new_data.assign(\n",
    "#     open_time = data_df['open'].values, \n",
    "#     open = data_df['open'].values)\n",
    "new_data['open_time'] = data_df['open'].values\n",
    "new_data['ot'] = data_df['open'].values\n",
    "new_data.iloc[-2:, :]"
   ]
  },
  {
   "cell_type": "code",
   "execution_count": null,
   "metadata": {},
   "outputs": [],
   "source": []
  }
 ],
 "metadata": {
  "interpreter": {
   "hash": "9da8e7dc412e975c33f0b5cfe1d89d675315b1e44387e4750b63271327172cdb"
  },
  "kernelspec": {
   "display_name": "Python 3.7.3 ('base')",
   "language": "python",
   "name": "python3"
  },
  "language_info": {
   "codemirror_mode": {
    "name": "ipython",
    "version": 3
   },
   "file_extension": ".py",
   "mimetype": "text/x-python",
   "name": "python",
   "nbconvert_exporter": "python",
   "pygments_lexer": "ipython3",
   "version": "3.7.3"
  },
  "orig_nbformat": 4
 },
 "nbformat": 4,
 "nbformat_minor": 2
}
