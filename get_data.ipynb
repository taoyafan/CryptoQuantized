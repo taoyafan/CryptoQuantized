{
 "cells": [
  {
   "cell_type": "markdown",
   "metadata": {},
   "source": [
    "# This is only a test of getting data and saving to csv"
   ]
  },
  {
   "cell_type": "code",
   "execution_count": 86,
   "metadata": {},
   "outputs": [
    {
     "name": "stdout",
     "output_type": "stream",
     "text": [
      "1d\n"
     ]
    }
   ],
   "source": [
    "from binance.client import Client\n",
    "from enum import Enum, unique\n",
    "\n",
    "@unique\n",
    "class DataType(Enum):\n",
    "    INTERVAL_1MINUTE = Client.KLINE_INTERVAL_1MINUTE\n",
    "    INTERVAL_3MINUTE = Client.KLINE_INTERVAL_3MINUTE\n",
    "    INTERVAL_5MINUTE = Client.KLINE_INTERVAL_5MINUTE\n",
    "    INTERVAL_15MINUTE = Client.KLINE_INTERVAL_15MINUTE\n",
    "    INTERVAL_30MINUTE = Client.KLINE_INTERVAL_30MINUTE\n",
    "    INTERVAL_1HOUR = Client.KLINE_INTERVAL_1HOUR\n",
    "    INTERVAL_2HOUR = Client.KLINE_INTERVAL_2HOUR\n",
    "    INTERVAL_4HOUR = Client.KLINE_INTERVAL_4HOUR\n",
    "    INTERVAL_6HOUR = Client.KLINE_INTERVAL_6HOUR\n",
    "    INTERVAL_8HOUR = Client.KLINE_INTERVAL_8HOUR\n",
    "    INTERVAL_12HOUR = Client.KLINE_INTERVAL_12HOUR\n",
    "    INTERVAL_1DAY = Client.KLINE_INTERVAL_1DAY\n",
    "    INTERVAL_3DAY = Client.KLINE_INTERVAL_3DAY\n",
    "    INTERVAL_1WEEK = Client.KLINE_INTERVAL_1WEEK\n",
    "    INTERVAL_1MONTH = Client.KLINE_INTERVAL_1MONTH\n",
    "\n",
    "interval = DataType.INTERVAL_1DAY \n",
    "print(interval.value)"
   ]
  },
  {
   "cell_type": "code",
   "execution_count": 89,
   "metadata": {},
   "outputs": [
    {
     "data": {
      "text/plain": [
       "'2022-05-22 22:08:29.891000'"
      ]
     },
     "execution_count": 89,
     "metadata": {},
     "output_type": "execute_result"
    }
   ],
   "source": [
    "from datetime import datetime, timedelta\n",
    "import dateparser\n",
    "import pytz\n",
    "\n",
    "def date_to_milliseconds(date_str):\n",
    "    \"\"\"Convert UTC date to milliseconds\n",
    "\n",
    "    If using offset strings add \"UTC\" to date string e.g. \"now UTC\", \"11 hours ago UTC\"\n",
    "\n",
    "    See dateparse docs for formats http://dateparser.readthedocs.io/en/latest/\n",
    "\n",
    "    :param date_str: date in readable format, i.e. \"January 01, 2018\", \"11 hours ago UTC\", \"now UTC\"\n",
    "    :type date_str: str\n",
    "    \"\"\"\n",
    "    # get epoch value in UTC\n",
    "    epoch = datetime.utcfromtimestamp(0).replace(tzinfo=pytz.utc)\n",
    "    # parse our date string\n",
    "    d = dateparser.parse(date_str)\n",
    "    # if the date is not timezone aware apply UTC timezone\n",
    "    if d.tzinfo is None or d.tzinfo.utcoffset(d) is None:\n",
    "        d = d.replace(tzinfo=pytz.utc)\n",
    "\n",
    "    # return the difference in time\n",
    "    return int((d - epoch).total_seconds() * 1000.0)\n",
    "\n",
    "def milliseconds_to_date(ms: int) -> str:\n",
    "    # get epoch value in local time\n",
    "    epoch = datetime.fromtimestamp(0)\n",
    "    return str(epoch + timedelta(milliseconds=ms))\n",
    "\n",
    "milliseconds_to_date(date_to_milliseconds(\"now UTC+8\"))\n",
    "# milliseconds_to_date(1653222960000)\n",
    "# date_to_milliseconds(\"now\")\n"
   ]
  },
  {
   "cell_type": "code",
   "execution_count": 53,
   "metadata": {},
   "outputs": [
    {
     "data": {
      "text/plain": [
       "86400000"
      ]
     },
     "execution_count": 53,
     "metadata": {},
     "output_type": "execute_result"
    }
   ],
   "source": [
    "def interval_to_milliseconds(interval: DataType):\n",
    "    \"\"\"Convert a Binance interval string to milliseconds\n",
    "\n",
    "    :param interval: Binance interval string 1m, 3m, 5m, 15m, 30m, 1h, 2h, 4h, 6h, 8h, 12h, 1d, 3d, 1w\n",
    "    :type interval: str\n",
    "\n",
    "    :return:\n",
    "        None if unit not one of m, h, d or w\n",
    "        None if string not in correct format\n",
    "        int value of interval in milliseconds\n",
    "    \"\"\"\n",
    "    ms = None\n",
    "    seconds_per_unit = {\n",
    "        \"m\": 60,\n",
    "        \"h\": 60 * 60,\n",
    "        \"d\": 24 * 60 * 60,\n",
    "        \"w\": 7 * 24 * 60 * 60\n",
    "    }\n",
    "\n",
    "    unit = interval.value[-1]\n",
    "    if unit in seconds_per_unit:\n",
    "        try:\n",
    "            ms = int(interval.value[:-1]) * seconds_per_unit[unit] * 1000\n",
    "        except ValueError:\n",
    "            pass\n",
    "    return ms\n",
    "\n",
    "interval_to_milliseconds(DataType.INTERVAL_1DAY)"
   ]
  },
  {
   "cell_type": "code",
   "execution_count": 66,
   "metadata": {},
   "outputs": [
    {
     "data": {
      "text/plain": [
       "[[1647243240000,\n",
       "  '39044.37000000',\n",
       "  '39150.00000000',\n",
       "  '39036.60000000',\n",
       "  '39050.00000000',\n",
       "  '109.99343000',\n",
       "  1647243299999,\n",
       "  '4300179.76370060',\n",
       "  2531,\n",
       "  '55.93089000',\n",
       "  '2186560.57099870',\n",
       "  '0'],\n",
       " [1647243300000,\n",
       "  '39050.00000000',\n",
       "  '39077.00000000',\n",
       "  '39005.40000000',\n",
       "  '39005.40000000',\n",
       "  '108.47433000',\n",
       "  1647243359999,\n",
       "  '4235517.64577630',\n",
       "  1986,\n",
       "  '50.17298000',\n",
       "  '1959088.60701860',\n",
       "  '0'],\n",
       " [1647243360000,\n",
       "  '39005.41000000',\n",
       "  '39005.41000000',\n",
       "  '38933.67000000',\n",
       "  '38978.01000000',\n",
       "  '45.72883000',\n",
       "  1647243419999,\n",
       "  '1781781.44240490',\n",
       "  1180,\n",
       "  '17.70539000',\n",
       "  '689809.71444590',\n",
       "  '0']]"
      ]
     },
     "execution_count": 66,
     "metadata": {},
     "output_type": "execute_result"
    }
   ],
   "source": [
    "import time\n",
    "\n",
    "def get_historical_klines(symbol, interval: DataType, start_str, end_str=None):\n",
    "    \"\"\"Get Historical Klines from Binance\n",
    "\n",
    "    See dateparse docs for valid start and end string formats http://dateparser.readthedocs.io/en/latest/\n",
    "\n",
    "    If using offset strings for dates add \"UTC\" to date string e.g. \"now UTC\", \"11 hours ago UTC\"\n",
    "\n",
    "    :param symbol: Name of symbol pair e.g BNBBTC\n",
    "    :type symbol: str\n",
    "    :param interval: Biannce Kline interval\n",
    "    :type interval: str\n",
    "    :param start_str: Start date string in UTC format\n",
    "    :type start_str: str\n",
    "    :param end_str: optional - end date string in UTC format\n",
    "    :type end_str: str\n",
    "\n",
    "    :return: list of OHLCV values\n",
    "\n",
    "    \"\"\"\n",
    "    proxies = {\n",
    "        \"http\": \"http://127.0.0.1:8900\",\n",
    "        \"https\": \"http://127.0.0.1:8900\",\n",
    "    }\n",
    "\n",
    "    # create the Binance client, no need for api key\n",
    "    client = Client(\"\", \"\",  {'proxies': proxies})\n",
    "\n",
    "    # init our list\n",
    "    output_data = []\n",
    "\n",
    "    # setup the max limit\n",
    "    limit = 500\n",
    "\n",
    "    # convert interval to useful value in seconds\n",
    "    timeframe = interval_to_milliseconds(interval)\n",
    "\n",
    "    # convert our date strings to milliseconds\n",
    "    start_ts = date_to_milliseconds(start_str)\n",
    "\n",
    "    # if an end time was passed convert it\n",
    "    end_ts = None\n",
    "    if end_str:\n",
    "        end_ts = date_to_milliseconds(end_str)\n",
    "\n",
    "    idx = 0\n",
    "    # it can be difficult to know when a symbol was listed on Binance so allow start time to be before list date\n",
    "    symbol_existed = False\n",
    "    while True:\n",
    "        # fetch the klines from start_ts up to max 500 entries or the end_ts if set\n",
    "        temp_data = client.get_klines(\n",
    "            symbol=symbol,\n",
    "            interval=interval.value,\n",
    "            limit=limit,\n",
    "            startTime=start_ts,\n",
    "            endTime=end_ts\n",
    "        )\n",
    "\n",
    "        # handle the case where our start date is before the symbol pair listed on Binance\n",
    "        if not symbol_existed and len(temp_data):\n",
    "            symbol_existed = True\n",
    "\n",
    "        if symbol_existed:\n",
    "            # append this loops data to our output data\n",
    "            output_data += temp_data\n",
    "\n",
    "            # update our start timestamp using the last value in the array and add the interval timeframe\n",
    "            start_ts = temp_data[len(temp_data) - 1][0] + timeframe\n",
    "        else:\n",
    "            # it wasn't listed yet, increment our start date\n",
    "            start_ts += timeframe\n",
    "\n",
    "        idx += 1\n",
    "        # check if we received less than the required limit and exit the loop\n",
    "        if len(temp_data) < limit:\n",
    "            # exit the while loop\n",
    "            break\n",
    "\n",
    "        # sleep after every 3rd call to be kind to the API\n",
    "        if idx % 3 == 0:\n",
    "            time.sleep(1)\n",
    "\n",
    "    return output_data\n",
    "    \n",
    "symbol = \"BTCUSDT\"\n",
    "interval = DataType.INTERVAL_1MINUTE\n",
    "start = \"100000 minutes ago\"\n",
    "end = \"99997 minutes ago\"\n",
    "data_list = get_historical_klines(symbol, interval, start, end)\n",
    "data_list"
   ]
  },
  {
   "cell_type": "code",
   "execution_count": 67,
   "metadata": {},
   "outputs": [
    {
     "data": {
      "text/html": [
       "<div>\n",
       "<style scoped>\n",
       "    .dataframe tbody tr th:only-of-type {\n",
       "        vertical-align: middle;\n",
       "    }\n",
       "\n",
       "    .dataframe tbody tr th {\n",
       "        vertical-align: top;\n",
       "    }\n",
       "\n",
       "    .dataframe thead th {\n",
       "        text-align: right;\n",
       "    }\n",
       "</style>\n",
       "<table border=\"1\" class=\"dataframe\">\n",
       "  <thead>\n",
       "    <tr style=\"text-align: right;\">\n",
       "      <th></th>\n",
       "      <th>open_time</th>\n",
       "      <th>open</th>\n",
       "      <th>high</th>\n",
       "      <th>low</th>\n",
       "      <th>close</th>\n",
       "      <th>volume</th>\n",
       "      <th>close_time</th>\n",
       "      <th>quote_assert_volume</th>\n",
       "      <th>number_of_trades</th>\n",
       "      <th>taker_buy_volume</th>\n",
       "      <th>taker_buy_quote_asset_volume</th>\n",
       "    </tr>\n",
       "  </thead>\n",
       "  <tbody>\n",
       "    <tr>\n",
       "      <th>0</th>\n",
       "      <td>1647243240000</td>\n",
       "      <td>39044.37000000</td>\n",
       "      <td>39150.00000000</td>\n",
       "      <td>39036.60000000</td>\n",
       "      <td>39050.00000000</td>\n",
       "      <td>109.99343000</td>\n",
       "      <td>1647243299999</td>\n",
       "      <td>4300179.76370060</td>\n",
       "      <td>2531</td>\n",
       "      <td>55.93089000</td>\n",
       "      <td>2186560.57099870</td>\n",
       "    </tr>\n",
       "    <tr>\n",
       "      <th>1</th>\n",
       "      <td>1647243300000</td>\n",
       "      <td>39050.00000000</td>\n",
       "      <td>39077.00000000</td>\n",
       "      <td>39005.40000000</td>\n",
       "      <td>39005.40000000</td>\n",
       "      <td>108.47433000</td>\n",
       "      <td>1647243359999</td>\n",
       "      <td>4235517.64577630</td>\n",
       "      <td>1986</td>\n",
       "      <td>50.17298000</td>\n",
       "      <td>1959088.60701860</td>\n",
       "    </tr>\n",
       "    <tr>\n",
       "      <th>2</th>\n",
       "      <td>1647243360000</td>\n",
       "      <td>39005.41000000</td>\n",
       "      <td>39005.41000000</td>\n",
       "      <td>38933.67000000</td>\n",
       "      <td>38978.01000000</td>\n",
       "      <td>45.72883000</td>\n",
       "      <td>1647243419999</td>\n",
       "      <td>1781781.44240490</td>\n",
       "      <td>1180</td>\n",
       "      <td>17.70539000</td>\n",
       "      <td>689809.71444590</td>\n",
       "    </tr>\n",
       "  </tbody>\n",
       "</table>\n",
       "</div>"
      ],
      "text/plain": [
       "       open_time            open            high             low  \\\n",
       "0  1647243240000  39044.37000000  39150.00000000  39036.60000000   \n",
       "1  1647243300000  39050.00000000  39077.00000000  39005.40000000   \n",
       "2  1647243360000  39005.41000000  39005.41000000  38933.67000000   \n",
       "\n",
       "            close        volume     close_time quote_assert_volume  \\\n",
       "0  39050.00000000  109.99343000  1647243299999    4300179.76370060   \n",
       "1  39005.40000000  108.47433000  1647243359999    4235517.64577630   \n",
       "2  38978.01000000   45.72883000  1647243419999    1781781.44240490   \n",
       "\n",
       "   number_of_trades taker_buy_volume taker_buy_quote_asset_volume  \n",
       "0              2531      55.93089000             2186560.57099870  \n",
       "1              1986      50.17298000             1959088.60701860  \n",
       "2              1180      17.70539000              689809.71444590  "
      ]
     },
     "execution_count": 67,
     "metadata": {},
     "output_type": "execute_result"
    }
   ],
   "source": [
    "import pandas as pd\n",
    "data_df = pd.DataFrame(data_list, columns =['open_time', 'open', 'high', 'low', 'close', 'volume', 'close_time', 'quote_assert_volume',\n",
    "                                  'number_of_trades', 'taker_buy_volume', 'taker_buy_quote_asset_volume', 'ignore'])\n",
    "data_df = data_df.drop(columns=['ignore'])\n",
    "# data_df[['open_time', 'close_time']].apply(lambda x: x.map(milliseconds_to_date))\n",
    "data_df\n"
   ]
  },
  {
   "cell_type": "code",
   "execution_count": 58,
   "metadata": {},
   "outputs": [],
   "source": [
    "import os\n",
    "file_loc = 'data/{}_{}.csv'.format(symbol, interval.value)\n",
    "if os.path.exists(file_loc):\n",
    "    # If file exist, append.\n",
    "    data_df.to_csv(file_loc, mode='a', index=False, header=False)\n",
    "else:\n",
    "    data_df.to_csv(file_loc, index=False)"
   ]
  },
  {
   "cell_type": "markdown",
   "metadata": {},
   "source": [
    "Test reading from csv"
   ]
  },
  {
   "cell_type": "code",
   "execution_count": 61,
   "metadata": {},
   "outputs": [
    {
     "data": {
      "text/html": [
       "<div>\n",
       "<style scoped>\n",
       "    .dataframe tbody tr th:only-of-type {\n",
       "        vertical-align: middle;\n",
       "    }\n",
       "\n",
       "    .dataframe tbody tr th {\n",
       "        vertical-align: top;\n",
       "    }\n",
       "\n",
       "    .dataframe thead th {\n",
       "        text-align: right;\n",
       "    }\n",
       "</style>\n",
       "<table border=\"1\" class=\"dataframe\">\n",
       "  <thead>\n",
       "    <tr style=\"text-align: right;\">\n",
       "      <th></th>\n",
       "      <th>open_time</th>\n",
       "      <th>open</th>\n",
       "      <th>high</th>\n",
       "      <th>low</th>\n",
       "      <th>close</th>\n",
       "      <th>volume</th>\n",
       "      <th>close_time</th>\n",
       "      <th>quote_assert_volume</th>\n",
       "      <th>number_of_trades</th>\n",
       "      <th>taker_buy_volume</th>\n",
       "      <th>taker_buy_quote_asset_volume</th>\n",
       "    </tr>\n",
       "  </thead>\n",
       "  <tbody>\n",
       "    <tr>\n",
       "      <th>0</th>\n",
       "      <td>1653181440000</td>\n",
       "      <td>29490.01</td>\n",
       "      <td>29494.34</td>\n",
       "      <td>29490.00</td>\n",
       "      <td>29491.53</td>\n",
       "      <td>3.52387</td>\n",
       "      <td>1653181499999</td>\n",
       "      <td>103926.291603</td>\n",
       "      <td>226</td>\n",
       "      <td>1.70443</td>\n",
       "      <td>50267.016264</td>\n",
       "    </tr>\n",
       "    <tr>\n",
       "      <th>1</th>\n",
       "      <td>1653181500000</td>\n",
       "      <td>29491.53</td>\n",
       "      <td>29493.77</td>\n",
       "      <td>29491.53</td>\n",
       "      <td>29493.77</td>\n",
       "      <td>2.65055</td>\n",
       "      <td>1653181559999</td>\n",
       "      <td>78169.270903</td>\n",
       "      <td>238</td>\n",
       "      <td>1.61445</td>\n",
       "      <td>47612.888458</td>\n",
       "    </tr>\n",
       "    <tr>\n",
       "      <th>2</th>\n",
       "      <td>1653181560000</td>\n",
       "      <td>29493.76</td>\n",
       "      <td>29496.57</td>\n",
       "      <td>29493.76</td>\n",
       "      <td>29496.56</td>\n",
       "      <td>1.59473</td>\n",
       "      <td>1653181619999</td>\n",
       "      <td>47034.727665</td>\n",
       "      <td>267</td>\n",
       "      <td>1.06850</td>\n",
       "      <td>31514.161574</td>\n",
       "    </tr>\n",
       "  </tbody>\n",
       "</table>\n",
       "</div>"
      ],
      "text/plain": [
       "       open_time      open      high       low     close   volume  \\\n",
       "0  1653181440000  29490.01  29494.34  29490.00  29491.53  3.52387   \n",
       "1  1653181500000  29491.53  29493.77  29491.53  29493.77  2.65055   \n",
       "2  1653181560000  29493.76  29496.57  29493.76  29496.56  1.59473   \n",
       "\n",
       "      close_time  quote_assert_volume  number_of_trades  taker_buy_volume  \\\n",
       "0  1653181499999        103926.291603               226           1.70443   \n",
       "1  1653181559999         78169.270903               238           1.61445   \n",
       "2  1653181619999         47034.727665               267           1.06850   \n",
       "\n",
       "   taker_buy_quote_asset_volume  \n",
       "0                  50267.016264  \n",
       "1                  47612.888458  \n",
       "2                  31514.161574  "
      ]
     },
     "execution_count": 61,
     "metadata": {},
     "output_type": "execute_result"
    }
   ],
   "source": [
    "history_data = None\n",
    "if os.path.exists(file_loc):\n",
    "    history_data = pd.read_csv(file_loc)\n",
    "history_data"
   ]
  },
  {
   "cell_type": "code",
   "execution_count": 62,
   "metadata": {},
   "outputs": [
    {
     "data": {
      "text/html": [
       "<div>\n",
       "<style scoped>\n",
       "    .dataframe tbody tr th:only-of-type {\n",
       "        vertical-align: middle;\n",
       "    }\n",
       "\n",
       "    .dataframe tbody tr th {\n",
       "        vertical-align: top;\n",
       "    }\n",
       "\n",
       "    .dataframe thead th {\n",
       "        text-align: right;\n",
       "    }\n",
       "</style>\n",
       "<table border=\"1\" class=\"dataframe\">\n",
       "  <thead>\n",
       "    <tr style=\"text-align: right;\">\n",
       "      <th></th>\n",
       "      <th>open_time</th>\n",
       "      <th>open</th>\n",
       "      <th>high</th>\n",
       "      <th>low</th>\n",
       "      <th>close</th>\n",
       "      <th>volume</th>\n",
       "      <th>close_time</th>\n",
       "      <th>quote_assert_volume</th>\n",
       "      <th>number_of_trades</th>\n",
       "      <th>taker_buy_volume</th>\n",
       "      <th>taker_buy_quote_asset_volume</th>\n",
       "    </tr>\n",
       "  </thead>\n",
       "  <tbody>\n",
       "    <tr>\n",
       "      <th>0</th>\n",
       "      <td>1653181440000</td>\n",
       "      <td>29490.01000000</td>\n",
       "      <td>29494.34000000</td>\n",
       "      <td>29490.00000000</td>\n",
       "      <td>29491.53000000</td>\n",
       "      <td>3.52387000</td>\n",
       "      <td>1653181499999</td>\n",
       "      <td>103926.29160350</td>\n",
       "      <td>226</td>\n",
       "      <td>1.70443000</td>\n",
       "      <td>50267.01626400</td>\n",
       "    </tr>\n",
       "    <tr>\n",
       "      <th>1</th>\n",
       "      <td>1653181500000</td>\n",
       "      <td>29491.53000000</td>\n",
       "      <td>29493.77000000</td>\n",
       "      <td>29491.53000000</td>\n",
       "      <td>29493.77000000</td>\n",
       "      <td>2.65055000</td>\n",
       "      <td>1653181559999</td>\n",
       "      <td>78169.27090320</td>\n",
       "      <td>238</td>\n",
       "      <td>1.61445000</td>\n",
       "      <td>47612.88845830</td>\n",
       "    </tr>\n",
       "    <tr>\n",
       "      <th>2</th>\n",
       "      <td>1653181560000</td>\n",
       "      <td>29493.76000000</td>\n",
       "      <td>29496.57000000</td>\n",
       "      <td>29493.76000000</td>\n",
       "      <td>29496.56000000</td>\n",
       "      <td>1.59473000</td>\n",
       "      <td>1653181619999</td>\n",
       "      <td>47034.72766460</td>\n",
       "      <td>267</td>\n",
       "      <td>1.06850000</td>\n",
       "      <td>31514.16157370</td>\n",
       "    </tr>\n",
       "  </tbody>\n",
       "</table>\n",
       "</div>"
      ],
      "text/plain": [
       "       open_time            open            high             low  \\\n",
       "0  1653181440000  29490.01000000  29494.34000000  29490.00000000   \n",
       "1  1653181500000  29491.53000000  29493.77000000  29491.53000000   \n",
       "2  1653181560000  29493.76000000  29496.57000000  29493.76000000   \n",
       "\n",
       "            close      volume     close_time quote_assert_volume  \\\n",
       "0  29491.53000000  3.52387000  1653181499999     103926.29160350   \n",
       "1  29493.77000000  2.65055000  1653181559999      78169.27090320   \n",
       "2  29496.56000000  1.59473000  1653181619999      47034.72766460   \n",
       "\n",
       "   number_of_trades taker_buy_volume taker_buy_quote_asset_volume  \n",
       "0               226       1.70443000               50267.01626400  \n",
       "1               238       1.61445000               47612.88845830  \n",
       "2               267       1.06850000               31514.16157370  "
      ]
     },
     "execution_count": 62,
     "metadata": {},
     "output_type": "execute_result"
    }
   ],
   "source": [
    "# Test of empty data frame append others\n",
    "pd.DataFrame().append(data_df)"
   ]
  },
  {
   "cell_type": "code",
   "execution_count": 68,
   "metadata": {},
   "outputs": [
    {
     "data": {
      "text/plain": [
       "'2022-03-14 07:34:00'"
      ]
     },
     "execution_count": 68,
     "metadata": {},
     "output_type": "execute_result"
    }
   ],
   "source": [
    "# data_df.iloc[-1]['open_time']\n",
    "milliseconds_to_date(int(data_df['open_time'].values[0]))\n",
    "# data_df['open_time'].values[-1]"
   ]
  },
  {
   "cell_type": "code",
   "execution_count": 47,
   "metadata": {},
   "outputs": [
    {
     "data": {
      "text/plain": [
       "5"
      ]
     },
     "execution_count": 47,
     "metadata": {},
     "output_type": "execute_result"
    }
   ],
   "source": [
    "# data_df.shape[0]\n",
    "len(data_df)"
   ]
  },
  {
   "cell_type": "code",
   "execution_count": 76,
   "metadata": {},
   "outputs": [
    {
     "data": {
      "text/plain": [
       "1"
      ]
     },
     "execution_count": 76,
     "metadata": {},
     "output_type": "execute_result"
    }
   ],
   "source": [
    "4 // 3"
   ]
  },
  {
   "cell_type": "code",
   "execution_count": null,
   "metadata": {},
   "outputs": [],
   "source": []
  }
 ],
 "metadata": {
  "interpreter": {
   "hash": "9da8e7dc412e975c33f0b5cfe1d89d675315b1e44387e4750b63271327172cdb"
  },
  "kernelspec": {
   "display_name": "Python 3.7.3 ('base')",
   "language": "python",
   "name": "python3"
  },
  "language_info": {
   "codemirror_mode": {
    "name": "ipython",
    "version": 3
   },
   "file_extension": ".py",
   "mimetype": "text/x-python",
   "name": "python",
   "nbconvert_exporter": "python",
   "pygments_lexer": "ipython3",
   "version": "3.7.3"
  },
  "orig_nbformat": 4
 },
 "nbformat": 4,
 "nbformat_minor": 2
}
