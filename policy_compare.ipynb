{
 "cells": [
  {
   "cell_type": "code",
   "execution_count": 1,
   "metadata": {},
   "outputs": [
    {
     "data": {
      "text/plain": [
       "<Figure size 1000x500 with 0 Axes>"
      ]
     },
     "metadata": {},
     "output_type": "display_data"
    }
   ],
   "source": [
    "from base_types import IdxValue, DataElements\n",
    "from data import Data\n",
    "from plot import PricePlot\n",
    "from utils import milliseconds_to_date\n",
    "from base_types import DataType\n",
    "import json\n",
    "from analysis_utils import SavedInfo, read_data"
   ]
  },
  {
   "cell_type": "code",
   "execution_count": 3,
   "metadata": {},
   "outputs": [],
   "source": [
    "import matplotlib.pyplot as plt\n",
    "from mplfinance.original_flavor import candlestick_ohlc\n",
    "from matplotlib import ticker\n",
    "from base_types import DataElements\n",
    "import numpy as np\n",
    "\n",
    "def get_data_from_time(time_value: IdxValue, begin, end):\n",
    "    timestamp = np.array(time_value.idx)\n",
    "    value = np.array(time_value.value)\n",
    "    idx = (timestamp >= begin) & (timestamp <= end)\n",
    "\n",
    "    return timestamp[idx], value[idx]\n",
    "\n",
    "\n",
    "def get_plot_data(saved_info: SavedInfo, start_idx=None, end_idx=None):\n",
    "    data, buy_points, sell_points, tops, bottoms, earn_points, tops_confirm, bottoms_confirm = saved_info.get_all()\n",
    "    subdata = data.data.loc[start_idx:end_idx, [DataElements.OPEN.value, DataElements.HIGH.value, \n",
    "                                DataElements.LOW.value, DataElements.CLOSE.value, DataElements.OPEN_TIME.value]].copy().reset_index()\n",
    "    subdata['timestamp'] = subdata[DataElements.OPEN_TIME.value].map(milliseconds_to_date)\n",
    "\n",
    "\n",
    "    start_time = subdata[DataElements.OPEN_TIME.value].values[0]\n",
    "    end_time = subdata[DataElements.OPEN_TIME.value].values[-1]\n",
    "\n",
    "    points = [ \n",
    "        PricePlot.Points(*get_data_from_time(buy_points, start_time, end_time), s=90, c='r', label='buy'),\n",
    "        PricePlot.Points(*get_data_from_time(sell_points, start_time, end_time), s=90, c='g', label='sell'),\n",
    "        PricePlot.Points(*get_data_from_time(tops, start_time, end_time), s=30, c='b', label='top'),\n",
    "        PricePlot.Points(*get_data_from_time(bottoms, start_time, end_time), s=30, c='y', label='bottoms'),\n",
    "        PricePlot.Points(*get_data_from_time(tops_confirm, start_time, end_time), s=10, c='m', label='tops_confirm'),\n",
    "        PricePlot.Points(*get_data_from_time(bottoms_confirm, start_time, end_time), s=10, c='orange', label='bottoms_confirm'),\n",
    "    ]\n",
    "\n",
    "    for point in points:\n",
    "        data.time_list_to_idx(point.idx)\n",
    "    \n",
    "    return {'subdata': subdata, 'points': points, 'earn_points': earn_points}\n",
    "\n",
    "# subdata_multi_0_5, points_multi_0_5 = get_plot_data(info_multi_0_5, None, None)\n",
    "# plot_data_new_policy = get_plot_data(info_new_policy)\n",
    "# plot_data = get_plot_data(info)\n"
   ]
  },
  {
   "cell_type": "code",
   "execution_count": 4,
   "metadata": {},
   "outputs": [],
   "source": [
    "def plot_with_data_points(all_data_points, plot_candle: bool):\n",
    "    figure_num = len(all_data_points)\n",
    "    subplot = None\n",
    "    for num in range(figure_num):\n",
    "        data = all_data_points[num]['subdata']\n",
    "        points = all_data_points[num]['points']\n",
    "\n",
    "        subplot = plt.subplot2grid((figure_num+1, 1), (num, 0), rowspan=1, colspan=1, sharex=subplot, sharey=subplot)\n",
    "\n",
    "        if plot_candle:\n",
    "            candlestick_ohlc(ax=subplot, quotes=data.values,\n",
    "                                        width=0.7, colorup='g', colordown='r')\n",
    "        else:\n",
    "            subplot.plot(range(0, len(data)), data[DataElements.CLOSE.value].values,  # type: ignore\n",
    "                        color=\"gray\", linewidth=1.0, label='base')\n",
    "\n",
    "        subplot.set_ylabel('Price') # type: ignore\n",
    "\n",
    "        if points:\n",
    "            for p in points:\n",
    "                subplot.scatter(p.idx, p.value, s=p.s, c=p.c, label=p.label)  # type: ignore\n",
    "\n",
    "    subplot = plt.subplot2grid((figure_num+1, 1), (figure_num, 0), rowspan=1, colspan=1, sharex=subplot)\n",
    "    colors = ['b', 'r', 'g', 'y']\n",
    "    for num in range(figure_num):\n",
    "        earn_points = all_data_points[num]['earn_points']\n",
    "        subplot.plot(earn_points.idx + [len(earn_points.idx)-1], earn_points.value + [earn_points.value[-1]], # type: ignore\n",
    "                     color=colors[num], linewidth=1.0, label=str(num))\n",
    "\n",
    "    def format_date(x, pos):\n",
    "        if x < 0 or x > len(data) - 1:\n",
    "            return ''\n",
    "        return data['timestamp'].values[int(x)]\n",
    "    subplot.xaxis.set_major_formatter(ticker.FuncFormatter(format_date)) # type: ignore\n",
    "\n",
    "%matplotlib qt5\n",
    "all_data = [\n",
    "    get_plot_data(read_data(\n",
    "            symbol = 'BTCBUSD',\n",
    "            exp_name = 'SetExitAtCreationAtr300',\n",
    "            start = 1652229060000,\n",
    "            end = 1658229059999\n",
    "    )),\n",
    "    get_plot_data(read_data(\n",
    "            symbol = 'BTCBUSD',\n",
    "            exp_name = '+-3Atr300',\n",
    "            start = 1652229060000,\n",
    "            end = 1658229059999\n",
    "    )),\n",
    "]\n",
    "plot_with_data_points(all_data, False)"
   ]
  },
  {
   "cell_type": "code",
   "execution_count": null,
   "metadata": {},
   "outputs": [],
   "source": []
  }
 ],
 "metadata": {
  "interpreter": {
   "hash": "9da8e7dc412e975c33f0b5cfe1d89d675315b1e44387e4750b63271327172cdb"
  },
  "kernelspec": {
   "display_name": "Python 3.7.3 ('base')",
   "language": "python",
   "name": "python3"
  },
  "language_info": {
   "codemirror_mode": {
    "name": "ipython",
    "version": 3
   },
   "file_extension": ".py",
   "mimetype": "text/x-python",
   "name": "python",
   "nbconvert_exporter": "python",
   "pygments_lexer": "ipython3",
   "version": "3.11.2"
  },
  "orig_nbformat": 4
 },
 "nbformat": 4,
 "nbformat_minor": 2
}
